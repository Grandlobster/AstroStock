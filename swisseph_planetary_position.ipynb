{
 "cells": [
  {
   "cell_type": "code",
   "execution_count": 16,
   "id": "f65aadeb-7176-49c0-8b2f-4ad4031c39c9",
   "metadata": {},
   "outputs": [
    {
     "name": "stdout",
     "output_type": "stream",
     "text": [
      "Extracting Moon positions...\n",
      "✅ Moon positions saved to 'moon_positions_1990_2025.csv'\n"
     ]
    }
   ],
   "source": [
    "import os\n",
    "import swisseph as swe\n",
    "import pandas as pd\n",
    "from datetime import datetime, timedelta\n",
    "\n",
    "# Set Swiss Ephemeris path\n",
    "EPHE_DIR = \"ephe\"\n",
    "swe.set_ephe_path(EPHE_DIR)\n",
    "\n",
    "# Date range\n",
    "start_date = datetime(1990, 1, 1)\n",
    "end_date = datetime(2025, 1, 1)\n",
    "delta = timedelta(days=1)\n",
    "\n",
    "# Prepare result list\n",
    "moon_positions = []\n",
    "\n",
    "print(\"Extracting Moon positions...\")\n",
    "current_date = start_date\n",
    "while current_date <= end_date:\n",
    "    try:\n",
    "        jd = swe.julday(current_date.year, current_date.month, current_date.day)\n",
    "        result, _ = swe.calc_ut(jd, swe.MOON)  # Correctly unpack result\n",
    "        lon = result[0]  # Longitude is the first element\n",
    "        moon_positions.append({\n",
    "            \"Date\": current_date.strftime('%Y-%m-%d'),\n",
    "            \"Moon_Longitude\": round(lon, 4)\n",
    "        })\n",
    "    except Exception as e:\n",
    "        print(f\"Error on {current_date}: {e}\")\n",
    "    current_date += delta\n",
    "\n",
    "# Save to CSV\n",
    "df = pd.DataFrame(moon_positions)\n",
    "df.to_csv(\"moon_positions_1990_2025.csv\", index=False)\n",
    "print(\"✅ Moon positions saved to 'moon_positions_1990_2025.csv'\")\n"
   ]
  },
  {
   "cell_type": "code",
   "execution_count": 12,
   "id": "4c8b1bd0-f645-407c-9eb4-ec72a35a9c75",
   "metadata": {},
   "outputs": [
    {
     "name": "stdout",
     "output_type": "stream",
     "text": [
      "Planet: Sun, Result: ((280.0591517461375, 0.00017904141203085552, 0.9833364539557631, 1.0188721031789691, 2.1100769772340662e-05, -2.1162273416824166e-05), 258)\n"
     ]
    }
   ],
   "source": [
    "result = swe.calc_ut(jd, pid)\n",
    "print(f\"Planet: {swe.get_planet_name(pid)}, Result: {result}\")\n"
   ]
  },
  {
   "cell_type": "code",
   "execution_count": null,
   "id": "d27dcc8f-7b6c-4a63-98cc-b66fd35aab59",
   "metadata": {},
   "outputs": [],
   "source": []
  }
 ],
 "metadata": {
  "kernelspec": {
   "display_name": "Python 3 (ipykernel)",
   "language": "python",
   "name": "python3"
  },
  "language_info": {
   "codemirror_mode": {
    "name": "ipython",
    "version": 3
   },
   "file_extension": ".py",
   "mimetype": "text/x-python",
   "name": "python",
   "nbconvert_exporter": "python",
   "pygments_lexer": "ipython3",
   "version": "3.11.7"
  }
 },
 "nbformat": 4,
 "nbformat_minor": 5
}
